{
 "cells": [
  {
   "cell_type": "markdown",
   "metadata": {},
   "source": [
    "# Calculating NDVI from Landsat 8 imagery without a GIS\n",
    "\n",
    "The [Normalized Difference Vegetation Index](https://en.wikipedia.org/wiki/Normalized_Difference_Vegetation_Index) is a simple indicator that can be used to assess whether the target, usually a remotely-sensed raster image, contains live green vegetation.  This calculation uses two bands of a remote dataset, the Red and Near-Infrared (NIR) bands.\n",
    "\n",
    "\\begin{align}\n",
    "NDVI & = \\frac{(NIR - Red)}{(NIR + Red)}\n",
    "\\end{align}\n",
    "\n",
    "For this tutorial, we'll use the NIR and Red bands from a landsat 8 scene above part of the central valley and the Sierra Nevada in California.  We'll be using [Level 1 datasets](https://landsat.usgs.gov/landsat-processing-details), orthorectified, map-projected images containing radiometrically calibrated data. These images can be individually downloaded from a variety of sources including:\n",
    "\n",
    "* [USGS EarthExplorer](https://earthexplorer.usgs.gov/) (Account required for download)\n",
    "* [Amazon AWS](https://aws.amazon.com/public-datasets/landsat/)\n",
    "* [Development Seed \"Libra\"](https://libra.developmentseed.org)\n",
    "\n",
    "The specific scene we'll be using is `LC08_L1TP_042034_20170616_20170629_01_T1`, which can be downloaded from AWS at https://landsatonaws.com/L8/042/034/LC08_L1TP_042034_20170616_20170629_01_T1.  Note that this is an index page that links to the scene's rasters, not the dataset itself.\n",
    "\n",
    "More information on Landsat collections here: [https://landsat.usgs.gov/landsat-collections](https://landsat.usgs.gov/landsat-collections)\n",
    "\n",
    "![Preview of our landsat 8 scene](http://landsat-pds.s3.amazonaws.com/c1/L8/042/034/LC08_L1TP_042034_20170616_20170629_01_T1/LC08_L1TP_042034_20170616_20170629_01_T1_thumb_small.jpg)\n",
    "\n",
    "### Bands\n",
    "\n",
    "* Red: Band 4 (name: ``LC08_L1TP_042034_20130605_20170310_01_T1_B4.TIF``)\n",
    "* Near-Infrared: Band 5 (name: ``LC08_L1TP_042034_20130605_20170310_01_T1_B5.TIF``)\n",
    "\n",
    "Because of the longevity of the landsat mission and because different sensors on the satellite record data at different resolutions, these bands are individually stored as single-band raster files.  Some other rasters may store multiple bands in the same file."
   ]
  },
  {
   "cell_type": "code",
   "execution_count": 7,
   "metadata": {},
   "outputs": [],
   "source": [
    "%matplotlib inline\n",
    "\n",
    "import rasterio\n",
    "from matplotlib import pyplot as plt\n",
    "import numpy\n",
    "\n",
    "SCENE = 'LC08_L1TP_042034_20170616_20170629_01_T1'\n",
    "AWS_URL = f'http://landsat-pds.s3.amazonaws.com/c1/L8/042/034/{SCENE}'\n",
    "RED_BAND = f'{AWS_URL}/{SCENE}_B4.TIF'\n",
    "NIR_BAND = f'{AWS_URL}/{SCENE}_B5.TIF'\n",
    "\n",
    "\n",
    "def plot(array, label=None):\n",
    "    \"\"\"Plot a numpy array with a colorbar.\"\"\"\n",
    "    plt.imshow(array)\n",
    "    plt.colorbar()\n",
    "    if label is None:\n",
    "        label = 'Raster {}'.format(array.shape)\n",
    "    plt.title(label)\n",
    "    plt.xlabel('Column #')\n",
    "    plt.ylabel('Row #')"
   ]
  },
  {
   "cell_type": "code",
   "execution_count": null,
   "metadata": {
    "collapsed": true
   },
   "outputs": [],
   "source": []
  }
 ],
 "metadata": {
  "kernelspec": {
   "display_name": "Python 2",
   "language": "python",
   "name": "python2"
  },
  "language_info": {
   "codemirror_mode": {
    "name": "ipython",
    "version": 3
   },
   "file_extension": ".py",
   "mimetype": "text/x-python",
   "name": "python",
   "nbconvert_exporter": "python",
   "pygments_lexer": "ipython3",
   "version": "3.6.6"
  }
 },
 "nbformat": 4,
 "nbformat_minor": 2
}
